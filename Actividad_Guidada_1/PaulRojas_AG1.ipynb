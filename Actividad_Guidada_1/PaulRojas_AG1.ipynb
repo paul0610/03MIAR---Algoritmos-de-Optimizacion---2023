{
  "nbformat": 4,
  "nbformat_minor": 0,
  "metadata": {
    "colab": {
      "provenance": []
    },
    "kernelspec": {
      "name": "python3",
      "display_name": "Python 3"
    },
    "language_info": {
      "name": "python"
    }
  },
  "cells": [
    {
      "cell_type": "markdown",
      "source": [
        "Nombre: Paul Florencio Rojas Quispe  \n",
        "https://colab.research.google.com/drive/1rshrzSQR1qKx1CjSvUyrB7GU758NsXyg?usp=sharing\n",
        "\n",
        "https://github.com/paul0610/03MIAR---Algoritmos-de-Optimizacion---2023\n"
      ],
      "metadata": {
        "id": "fI3ZTMecqJJg"
      }
    },
    {
      "cell_type": "code",
      "source": [
        "#Torres de Hanoi - Divide y venceras\n",
        "################################################################################\n",
        "\n",
        "\n",
        "################################################################\n",
        "def Torres_Hanoi(N, desde, hasta):\n",
        "  #N - Nº de fichas\n",
        "  #desde - torre inicial\n",
        "  #hasta - torre fina\n",
        "  if N==1 :\n",
        "    print(\"Lleva la ficha desde \" + str(desde) + \" hasta \" + str(hasta))\n",
        "\n",
        "  else:\n",
        "    Torres_Hanoi(N-1, desde, 6-desde-hasta)\n",
        "    print(\"Lleva la ficha desde \" + str(desde) + \" hasta \" + str(hasta))\n",
        "    Torres_Hanoi(N-1, 6-desde-hasta,  hasta)\n",
        "\n",
        "Torres_Hanoi(5, 1, 3)\n",
        "################################################################"
      ],
      "metadata": {
        "id": "JapMuNk7qVcO",
        "colab": {
          "base_uri": "https://localhost:8080/"
        },
        "outputId": "cedf3e9d-ee1d-4f56-927f-027048fb1558"
      },
      "execution_count": null,
      "outputs": [
        {
          "output_type": "stream",
          "name": "stdout",
          "text": [
            "Lleva la ficha desde 1 hasta 3\n",
            "Lleva la ficha desde 1 hasta 2\n",
            "Lleva la ficha desde 3 hasta 2\n",
            "Lleva la ficha desde 1 hasta 3\n",
            "Lleva la ficha desde 2 hasta 1\n",
            "Lleva la ficha desde 2 hasta 3\n",
            "Lleva la ficha desde 1 hasta 3\n",
            "Lleva la ficha desde 1 hasta 2\n",
            "Lleva la ficha desde 3 hasta 2\n",
            "Lleva la ficha desde 3 hasta 1\n",
            "Lleva la ficha desde 2 hasta 1\n",
            "Lleva la ficha desde 3 hasta 2\n",
            "Lleva la ficha desde 1 hasta 3\n",
            "Lleva la ficha desde 1 hasta 2\n",
            "Lleva la ficha desde 3 hasta 2\n",
            "Lleva la ficha desde 1 hasta 3\n",
            "Lleva la ficha desde 2 hasta 1\n",
            "Lleva la ficha desde 2 hasta 3\n",
            "Lleva la ficha desde 1 hasta 3\n",
            "Lleva la ficha desde 2 hasta 1\n",
            "Lleva la ficha desde 3 hasta 2\n",
            "Lleva la ficha desde 3 hasta 1\n",
            "Lleva la ficha desde 2 hasta 1\n",
            "Lleva la ficha desde 2 hasta 3\n",
            "Lleva la ficha desde 1 hasta 3\n",
            "Lleva la ficha desde 1 hasta 2\n",
            "Lleva la ficha desde 3 hasta 2\n",
            "Lleva la ficha desde 1 hasta 3\n",
            "Lleva la ficha desde 2 hasta 1\n",
            "Lleva la ficha desde 2 hasta 3\n",
            "Lleva la ficha desde 1 hasta 3\n"
          ]
        }
      ]
    },
    {
      "cell_type": "code",
      "source": [],
      "metadata": {
        "id": "vdRnJBhpK3v0"
      },
      "execution_count": null,
      "outputs": []
    },
    {
      "cell_type": "code",
      "source": [
        "#Cambio de monedas - Técnica voraz\n",
        "################################################################################\n",
        "SISTEMA = [11, 5 ,  1  ]\n",
        "################################################################\n",
        "def cambio_monedas(CANTIDAD,SISTEMA):\n",
        "#....\n",
        "  SOLUCION = [0]*len(SISTEMA)\n",
        "  ValorAcumulado = 0\n",
        "\n",
        "  for i,valor in enumerate(SISTEMA):\n",
        "    monedas = (CANTIDAD-ValorAcumulado)//valor\n",
        "    SOLUCION[i] = monedas\n",
        "    ValorAcumulado = ValorAcumulado + monedas*valor\n",
        "\n",
        "    if CANTIDAD == ValorAcumulado:\n",
        "      return SOLUCION\n",
        "\n",
        "  print(\"No es posible encontrar solucion\")\n",
        "\n",
        "cambio_monedas(15,SISTEMA)\n",
        "\n",
        "\n",
        "################################################################"
      ],
      "metadata": {
        "id": "6yCVJEfGK6Qk",
        "colab": {
          "base_uri": "https://localhost:8080/"
        },
        "outputId": "029d3fb9-10b4-4530-da0b-c61957f4086e"
      },
      "execution_count": null,
      "outputs": [
        {
          "output_type": "execute_result",
          "data": {
            "text/plain": [
              "[1, 0, 4]"
            ]
          },
          "metadata": {},
          "execution_count": 44
        }
      ]
    },
    {
      "cell_type": "code",
      "source": [],
      "metadata": {
        "id": "zvZxgbvXK8TB"
      },
      "execution_count": null,
      "outputs": []
    },
    {
      "cell_type": "code",
      "source": [
        "#N Reinas - Vuelta Atrás()\n",
        "################################################################################\n",
        "\n",
        "#Verifica que en la solución parcial no hay amenzas entre reinas\n",
        "################################################################\n",
        "def es_prometedora(SOLUCION,etapa):\n",
        "################################################################\n",
        "  #print(SOLUCION)\n",
        "  #Si la solución tiene dos valores iguales no es valida => Dos reinas en la misma fila\n",
        "  for i in range(etapa+1):\n",
        "    #print(\"El valor \" + str(SOLUCION[i]) + \" está \" +  str(SOLUCION.count(SOLUCION[i])) + \" veces\")\n",
        "    if SOLUCION.count(SOLUCION[i]) > 1:\n",
        "      return False\n",
        "\n",
        "    #Verifica las diagonales\n",
        "    for j in range(i+1, etapa +1 ):\n",
        "      #print(\"Comprobando diagonal de \" + str(i) + \" y \" + str(j))\n",
        "      if abs(i-j) == abs(SOLUCION[i]-SOLUCION[j]) : return False\n",
        "  return True\n",
        "\n",
        "#Traduce la solución al tablero\n",
        "################################################################\n",
        "def escribe_solucion(S):\n",
        "################################################################\n",
        "  n = len(S)\n",
        "  for x in range(n):\n",
        "    print(\"\")\n",
        "    for i in range(n):\n",
        "      if S[i] == x+1:\n",
        "        print(\" X \" , end=\"\")\n",
        "      else:\n",
        "        print(\" - \", end=\"\")\n",
        "\n",
        "\n",
        "\n",
        "#Proceso principal de N-Reinas\n",
        "################################################################\n",
        "def reinas(N, solucion=[],etapa=0):\n",
        "################################################################\n",
        "### ....\n",
        "  if len(solucion) == 0:         # [0,0,0...]\n",
        "    solucion = [0 for i in range(N) ]\n",
        "\n",
        "  for i in range(1, N+1):\n",
        "    solucion[etapa] = i\n",
        "    if es_prometedora(solucion, etapa):\n",
        "      if etapa == N-1:\n",
        "        print(solucion)\n",
        "      else:\n",
        "        reinas(N, solucion, etapa+1)\n",
        "    else:\n",
        "      None\n",
        "\n",
        "  solucion[etapa] = 0\n",
        "\n",
        "reinas(8,solucion=[],etapa=0)"
      ],
      "metadata": {
        "id": "jvzjQvcEK8Zb",
        "colab": {
          "base_uri": "https://localhost:8080/"
        },
        "outputId": "22796a74-48e5-4392-a020-8f663dc19e67"
      },
      "execution_count": null,
      "outputs": [
        {
          "output_type": "stream",
          "name": "stdout",
          "text": [
            "[1, 5, 8, 6, 3, 7, 2, 4]\n",
            "[1, 6, 8, 3, 7, 4, 2, 5]\n",
            "[1, 7, 4, 6, 8, 2, 5, 3]\n",
            "[1, 7, 5, 8, 2, 4, 6, 3]\n",
            "[2, 4, 6, 8, 3, 1, 7, 5]\n",
            "[2, 5, 7, 1, 3, 8, 6, 4]\n",
            "[2, 5, 7, 4, 1, 8, 6, 3]\n",
            "[2, 6, 1, 7, 4, 8, 3, 5]\n",
            "[2, 6, 8, 3, 1, 4, 7, 5]\n",
            "[2, 7, 3, 6, 8, 5, 1, 4]\n",
            "[2, 7, 5, 8, 1, 4, 6, 3]\n",
            "[2, 8, 6, 1, 3, 5, 7, 4]\n",
            "[3, 1, 7, 5, 8, 2, 4, 6]\n",
            "[3, 5, 2, 8, 1, 7, 4, 6]\n",
            "[3, 5, 2, 8, 6, 4, 7, 1]\n",
            "[3, 5, 7, 1, 4, 2, 8, 6]\n",
            "[3, 5, 8, 4, 1, 7, 2, 6]\n",
            "[3, 6, 2, 5, 8, 1, 7, 4]\n",
            "[3, 6, 2, 7, 1, 4, 8, 5]\n",
            "[3, 6, 2, 7, 5, 1, 8, 4]\n",
            "[3, 6, 4, 1, 8, 5, 7, 2]\n",
            "[3, 6, 4, 2, 8, 5, 7, 1]\n",
            "[3, 6, 8, 1, 4, 7, 5, 2]\n",
            "[3, 6, 8, 1, 5, 7, 2, 4]\n",
            "[3, 6, 8, 2, 4, 1, 7, 5]\n",
            "[3, 7, 2, 8, 5, 1, 4, 6]\n",
            "[3, 7, 2, 8, 6, 4, 1, 5]\n",
            "[3, 8, 4, 7, 1, 6, 2, 5]\n",
            "[4, 1, 5, 8, 2, 7, 3, 6]\n",
            "[4, 1, 5, 8, 6, 3, 7, 2]\n",
            "[4, 2, 5, 8, 6, 1, 3, 7]\n",
            "[4, 2, 7, 3, 6, 8, 1, 5]\n",
            "[4, 2, 7, 3, 6, 8, 5, 1]\n",
            "[4, 2, 7, 5, 1, 8, 6, 3]\n",
            "[4, 2, 8, 5, 7, 1, 3, 6]\n",
            "[4, 2, 8, 6, 1, 3, 5, 7]\n",
            "[4, 6, 1, 5, 2, 8, 3, 7]\n",
            "[4, 6, 8, 2, 7, 1, 3, 5]\n",
            "[4, 6, 8, 3, 1, 7, 5, 2]\n",
            "[4, 7, 1, 8, 5, 2, 6, 3]\n",
            "[4, 7, 3, 8, 2, 5, 1, 6]\n",
            "[4, 7, 5, 2, 6, 1, 3, 8]\n",
            "[4, 7, 5, 3, 1, 6, 8, 2]\n",
            "[4, 8, 1, 3, 6, 2, 7, 5]\n",
            "[4, 8, 1, 5, 7, 2, 6, 3]\n",
            "[4, 8, 5, 3, 1, 7, 2, 6]\n",
            "[5, 1, 4, 6, 8, 2, 7, 3]\n",
            "[5, 1, 8, 4, 2, 7, 3, 6]\n",
            "[5, 1, 8, 6, 3, 7, 2, 4]\n",
            "[5, 2, 4, 6, 8, 3, 1, 7]\n",
            "[5, 2, 4, 7, 3, 8, 6, 1]\n",
            "[5, 2, 6, 1, 7, 4, 8, 3]\n",
            "[5, 2, 8, 1, 4, 7, 3, 6]\n",
            "[5, 3, 1, 6, 8, 2, 4, 7]\n",
            "[5, 3, 1, 7, 2, 8, 6, 4]\n",
            "[5, 3, 8, 4, 7, 1, 6, 2]\n",
            "[5, 7, 1, 3, 8, 6, 4, 2]\n",
            "[5, 7, 1, 4, 2, 8, 6, 3]\n",
            "[5, 7, 2, 4, 8, 1, 3, 6]\n",
            "[5, 7, 2, 6, 3, 1, 4, 8]\n",
            "[5, 7, 2, 6, 3, 1, 8, 4]\n",
            "[5, 7, 4, 1, 3, 8, 6, 2]\n",
            "[5, 8, 4, 1, 3, 6, 2, 7]\n",
            "[5, 8, 4, 1, 7, 2, 6, 3]\n",
            "[6, 1, 5, 2, 8, 3, 7, 4]\n",
            "[6, 2, 7, 1, 3, 5, 8, 4]\n",
            "[6, 2, 7, 1, 4, 8, 5, 3]\n",
            "[6, 3, 1, 7, 5, 8, 2, 4]\n",
            "[6, 3, 1, 8, 4, 2, 7, 5]\n",
            "[6, 3, 1, 8, 5, 2, 4, 7]\n",
            "[6, 3, 5, 7, 1, 4, 2, 8]\n",
            "[6, 3, 5, 8, 1, 4, 2, 7]\n",
            "[6, 3, 7, 2, 4, 8, 1, 5]\n",
            "[6, 3, 7, 2, 8, 5, 1, 4]\n",
            "[6, 3, 7, 4, 1, 8, 2, 5]\n",
            "[6, 4, 1, 5, 8, 2, 7, 3]\n",
            "[6, 4, 2, 8, 5, 7, 1, 3]\n",
            "[6, 4, 7, 1, 3, 5, 2, 8]\n",
            "[6, 4, 7, 1, 8, 2, 5, 3]\n",
            "[6, 8, 2, 4, 1, 7, 5, 3]\n",
            "[7, 1, 3, 8, 6, 4, 2, 5]\n",
            "[7, 2, 4, 1, 8, 5, 3, 6]\n",
            "[7, 2, 6, 3, 1, 4, 8, 5]\n",
            "[7, 3, 1, 6, 8, 5, 2, 4]\n",
            "[7, 3, 8, 2, 5, 1, 6, 4]\n",
            "[7, 4, 2, 5, 8, 1, 3, 6]\n",
            "[7, 4, 2, 8, 6, 1, 3, 5]\n",
            "[7, 5, 3, 1, 6, 8, 2, 4]\n",
            "[8, 2, 4, 1, 7, 5, 3, 6]\n",
            "[8, 2, 5, 3, 1, 7, 4, 6]\n",
            "[8, 3, 1, 6, 2, 5, 7, 4]\n",
            "[8, 4, 1, 3, 6, 2, 7, 5]\n"
          ]
        }
      ]
    },
    {
      "cell_type": "code",
      "source": [],
      "metadata": {
        "id": "DZVVJo9DLAPh"
      },
      "execution_count": null,
      "outputs": []
    },
    {
      "cell_type": "code",
      "source": [
        " # Problema: Encontrar los dos puntos más cercanos\n",
        "import random\n",
        "import numpy as np # import numpy package\n",
        "import time\n",
        "import matplotlib.pyplot as plt\n",
        "\n",
        "\n",
        "\n",
        "def encontrar_puntos_cercanos(lista):\n",
        "    min_dist = float('inf')\n",
        "    punto1 = -1\n",
        "    punto2 = -1\n",
        "\n",
        "    for i in range(len(lista)):\n",
        "        for j in range(i + 1, len(lista)):\n",
        "            distancia = abs(lista[i] - lista[j])\n",
        "            if distancia < min_dist:\n",
        "                min_dist = distancia\n",
        "                punto1 = lista[i]\n",
        "                punto2 = lista[j]\n",
        "\n",
        "    return punto1, punto2, min_dist\n"
      ],
      "metadata": {
        "id": "OeFW0qHsLASG"
      },
      "execution_count": null,
      "outputs": []
    },
    {
      "cell_type": "markdown",
      "source": [
        "**1. PRIMER INTENTO POR FUERZA BRUTA**"
      ],
      "metadata": {
        "id": "IEJQkg54kohc"
      }
    },
    {
      "cell_type": "code",
      "source": [],
      "metadata": {
        "id": "AFtViV-gvyaR"
      },
      "execution_count": null,
      "outputs": []
    },
    {
      "cell_type": "code",
      "source": [
        "LISTA_1D = random.sample(range(1, 10001), 1000)\n",
        "\n",
        "puntoA, puntoB, distancia = encontrar_puntos_cercanos(LISTA_1D)\n",
        "\n",
        "print(f\"Los dos puntos más cercanos por fuerza bruta son {puntoA} y {puntoB} con una distancia de {distancia}.\")\n",
        "\n"
      ],
      "metadata": {
        "id": "H7k9jz_skrX8",
        "colab": {
          "base_uri": "https://localhost:8080/"
        },
        "outputId": "1beb7c11-76f6-468c-992e-217ed1c2f9a1"
      },
      "execution_count": null,
      "outputs": [
        {
          "output_type": "stream",
          "name": "stdout",
          "text": [
            "Los dos puntos más cercanos por fuerza bruta son 4231 y 4230 con una distancia de 1.\n"
          ]
        }
      ]
    },
    {
      "cell_type": "markdown",
      "source": [
        "**1.1 CALCULANDO COMPLEJIDAD POR FUERZA BRUTA:**\n",
        "\n",
        "El algoritmo de fuerza bruta para encontrar los dos puntos más cercanos en una lista unidimensional, la complejidad temporal, es O(n^2)\n",
        "n es el número de elementos en la lista.\n",
        "\n",
        "Se pude mejorar? : Sí, se pueden emplear técnicas más eficientes para mejorar la complejidad temporal del problema. Una de ellas es el algoritmo de \"Divide y vencerás\"\n",
        "\n",
        "A continuación se muestra el cálculo de la complejidad donde mostrará como la gráfica resultante se aproxima a lo indicado por **Big-O complexity chart de O(n^2)**\n"
      ],
      "metadata": {
        "id": "4XujOsvYk1T4"
      }
    },
    {
      "cell_type": "code",
      "source": [
        "# Ajustando el código para generar listas aleatorias de diferentes tamaños y medir el tiempo de ejecución\n",
        "\n",
        "# Tamaños de lista para probar, aumentando de manera cuadrática\n",
        "tamanos_lista_cuadraticos = [n**2 for n in range(10, 31, 5)]  # Por ejemplo, 10^2, 15^2, 20^2, etc.\n",
        "tiempos_ejecucion_cuadraticos = []\n",
        "\n",
        "# Medir el tiempo de ejecución para cada tamaño de lista cuadrático\n",
        "for tamano in tamanos_lista_cuadraticos:\n",
        "    # Generar una lista aleatoria con elementos únicos para el tamaño actual\n",
        "    lista_test = random.sample(range(1, tamano * 10), tamano)\n",
        "    inicio = time.time()\n",
        "    encontrar_puntos_cercanos(lista_test) #acá usamos la función que creamos para encontrar puntos cercanos\n",
        "    fin = time.time()\n",
        "    tiempos_ejecucion_cuadraticos.append(fin - inicio)\n",
        "\n",
        "# Graficar los resultados\n",
        "plt.plot(tamanos_lista_cuadraticos, tiempos_ejecucion_cuadraticos, marker='o')\n",
        "plt.xlabel('Tamaño de la Lista (Cuadrático)')\n",
        "plt.ylabel('Tiempo de Ejecución (segundos)')\n",
        "plt.title('Tiempo de Ejecución del Algoritmo de Fuerza Bruta (Escalado Cuadrático)')\n",
        "plt.grid(True)\n",
        "plt.show()"
      ],
      "metadata": {
        "colab": {
          "base_uri": "https://localhost:8080/",
          "height": 472
        },
        "id": "ETqrEwx4lBfk",
        "outputId": "0e4d254e-c4f1-4d8a-b076-956898665c80"
      },
      "execution_count": null,
      "outputs": [
        {
          "output_type": "display_data",
          "data": {
            "text/plain": [
              "<Figure size 640x480 with 1 Axes>"
            ],
            "image/png": "[encoded data removed]"
          },
          "metadata": {}
        }
      ]
    },
    {
      "cell_type": "code",
      "source": [],
      "metadata": {
        "id": "L-84TS_elMN3"
      },
      "execution_count": null,
      "outputs": []
    },
    {
      "cell_type": "markdown",
      "source": [
        "**2. APLICANDO DIVIDE Y VENCERÁS**"
      ],
      "metadata": {
        "id": "sOzDxQoxmwQH"
      }
    },
    {
      "cell_type": "code",
      "source": [
        "# función para encontrar los dos puntos más cercanos con divide y vencerás\n",
        "def encontrar_puntos_cercanos_divide_y_venceras(lista):\n",
        "    # Ordenar la lista para que los puntos más cercanos estén adyacentes\n",
        "    lista_ordenada = sorted(lista)\n",
        "\n",
        "    # Inicializar variables para la distancia mínima y los puntos más cercanos\n",
        "    min_dist = float('inf')\n",
        "    punto1 = -1\n",
        "    punto2 = -1\n",
        "\n",
        "    # Iterar a través de la lista ordenada\n",
        "    for i in range(len(lista_ordenada) - 1):\n",
        "        distancia = abs(lista_ordenada[i] - lista_ordenada[i + 1])\n",
        "        if distancia < min_dist:\n",
        "            min_dist = distancia\n",
        "            punto1 = lista_ordenada[i]\n",
        "            punto2 = lista_ordenada[i + 1]\n",
        "\n",
        "    return punto1, punto2, min_dist\n",
        "\n",
        "# Crear una lista de 1000 números únicos entre 1 y 10000\n",
        "LISTA_1D = random.sample(range(1, 10001), 1000)\n",
        "\n",
        "# Encontrar los dos puntos más cercanos usando el algoritmo de divide y vencerás\n",
        "punto1, punto2, distancia = encontrar_puntos_cercanos_divide_y_venceras(LISTA_1D)\n",
        "\n",
        "print(f\"punto 1 :  {punto1}\" )\n",
        "print(f\"punto 2 :  {punto2}\" )\n",
        "print(f\"distancia : {distancia}\" )\n"
      ],
      "metadata": {
        "id": "xlqrpXcqm1ri",
        "colab": {
          "base_uri": "https://localhost:8080/"
        },
        "outputId": "8bfe863d-0a4f-472b-e7a0-2b5bc5705f68"
      },
      "execution_count": null,
      "outputs": [
        {
          "output_type": "stream",
          "name": "stdout",
          "text": [
            "punto 1 :  102\n",
            "punto 2 :  103\n",
            "distancia : 1\n"
          ]
        }
      ]
    },
    {
      "cell_type": "markdown",
      "source": [
        "**2.1 Medición y Gráfica del Coste Computacional**\n",
        "\n",
        "Ordenar la lista: Esta es la parte más costosa del algoritmo. La función sorted en Python generalmente utiliza un algoritmo de ordenamiento eficiente como Timsort, que tiene una complejidad promedio y peor caso de\n",
        "O(nlogn).\n",
        "\n",
        "Búsqueda Lineal de Puntos Cercanos: Una vez ordenada la lista, el algoritmo realiza una sola pasada a través de ella para encontrar los dos puntos más cercanos. Esta operación tiene una complejidad de O(n).\n",
        "\n",
        "La complejidad total del algoritmo es dominada por la parte de ordenamiento, resultando en una complejidad total de O(nlogn).\n",
        "\n",
        "**Mejoras Posibles**\n",
        "\n",
        "Dado que la complejidad ya es O(nlogn) debido al paso de ordenamiento, que es óptima para este tipo de algoritmos, no hay mucho espacio para mejorar la eficiencia general en términos de complejidad asintótica. Sin embargo, podrían realizarse optimizaciones en términos de la implementación práctica, como el uso de algoritmos de ordenamiento más eficientes en casos específicos o la optimización de la búsqueda lineal.\n"
      ],
      "metadata": {
        "id": "Mo_7iu3FQrXc"
      }
    },
    {
      "cell_type": "code",
      "source": [
        "import matplotlib.pyplot as plt\n",
        "import time\n",
        "\n",
        "def medir_tiempo_ejecucion(func, lista):\n",
        "    inicio = time.time()\n",
        "    func(lista)\n",
        "    fin = time.time()\n",
        "    return fin - inicio\n",
        "\n",
        "# Tamaños de lista para probar, aumentando linealmente\n",
        "tamanos_lista = [n for n in range(100, 2100, 200)]\n",
        "tiempos_ejecucion = []\n",
        "\n",
        "# Medir el tiempo de ejecución para cada tamaño de lista\n",
        "for tamano in tamanos_lista:\n",
        "    lista_test = random.sample(range(1, 10001), tamano)\n",
        "    tiempo = medir_tiempo_ejecucion(encontrar_puntos_cercanos_divide_y_venceras, lista_test)\n",
        "    tiempos_ejecucion.append(tiempo)\n",
        "\n",
        "# Graficar los resultados\n",
        "plt.plot(tamanos_lista, tiempos_ejecucion, marker='o')\n",
        "plt.xlabel('Tamaño de la Lista')\n",
        "plt.ylabel('Tiempo de Ejecución (segundos)')\n",
        "plt.title('Tiempo de Ejecución del Algoritmo (Complejidad O(n log n))')\n",
        "plt.grid(True)\n",
        "plt.show()\n"
      ],
      "metadata": {
        "colab": {
          "base_uri": "https://localhost:8080/",
          "height": 472
        },
        "id": "kGRm4y93SYn1",
        "outputId": "9de8a565-aef9-4c92-bcf5-1b274f927b93"
      },
      "execution_count": null,
      "outputs": [
        {
          "output_type": "display_data",
          "data": {
            "text/plain": [
              "<Figure size 640x480 with 1 Axes>"
            ],
            "image/png": "[encoded data removed]"
          },
          "metadata": {}
        }
      ]
    },
    {
      "cell_type": "code",
      "source": [],
      "metadata": {
        "id": "jU4MCD7JUDpo"
      },
      "execution_count": null,
      "outputs": []
    },
    {
      "cell_type": "markdown",
      "source": [
        "**2.2. Extender el algoritmo a 2D:**"
      ],
      "metadata": {
        "id": "Cng_R0tAUQGc"
      }
    },
    {
      "cell_type": "code",
      "source": [
        "import math\n",
        "\n",
        "def distancia_euclidiana(punto1, punto2):\n",
        "    return math.sqrt((punto1[0] - punto2[0])**2 + (punto1[1] - punto2[1])**2)\n",
        "\n",
        "def encontrar_puntos_cercanos_divide_y_venceras_2d(lista):\n",
        "    # Ordenar la lista por la coordenada x\n",
        "    lista_ordenada = sorted(lista, key=lambda x: x[0])\n",
        "\n",
        "    # Función recursiva para encontrar los puntos más cercanos\n",
        "    def encontrar_puntos_recursivo(lista_ordenada):\n",
        "        n = len(lista_ordenada)\n",
        "        if n <= 1:\n",
        "            return float('inf'), None, None\n",
        "\n",
        "        # Dividir la lista en dos mitades\n",
        "        medio = n // 2\n",
        "        dist_izq, punto1_izq, punto2_izq = encontrar_puntos_recursivo(lista_ordenada[:medio])\n",
        "        dist_der, punto1_der, punto2_der = encontrar_puntos_recursivo(lista_ordenada[medio:])\n",
        "\n",
        "        # Encontrar la distancia mínima entre las dos mitades\n",
        "        dmin, p1, p2 = min((dist_izq, punto1_izq, punto2_izq), (dist_der, punto1_der, punto2_der), key=lambda x: x[0])\n",
        "\n",
        "        # Verificar si hay puntos más cercanos que cruzan el punto medio\n",
        "        puntos_cercanos_medio = [p for p in lista_ordenada if abs(p[0] - lista_ordenada[medio][0]) < dmin]\n",
        "\n",
        "        # Ordenar por la coordenada y para reducir las comparaciones\n",
        "        puntos_cercanos_medio.sort(key=lambda x: x[1])\n",
        "\n",
        "        # Comparar puntos en la banda cercana al punto medio\n",
        "        for i in range(len(puntos_cercanos_medio)):\n",
        "            for j in range(i + 1, min(i + 7, len(puntos_cercanos_medio))):  # Limitar las comparaciones a 7 vecinos más cercanos\n",
        "                d = distancia_euclidiana(puntos_cercanos_medio[i], puntos_cercanos_medio[j])\n",
        "                if d < dmin:\n",
        "                    dmin = d\n",
        "                    p1, p2 = puntos_cercanos_medio[i], puntos_cercanos_medio[j]\n",
        "\n",
        "        return dmin, p1, p2\n",
        "\n",
        "    return encontrar_puntos_recursivo(lista_ordenada)\n",
        "\n",
        "# Ejemplo de uso\n",
        "LISTA_2D = [(random.randrange(1,10000), random.randrange(1,10000)) for x in range(1000)]\n",
        "distancia, punto1, punto2  = encontrar_puntos_cercanos_divide_y_venceras_2d(LISTA_2D)\n",
        "\n",
        "print(f\"punto 1 :  {punto1}\" )\n",
        "print(f\"punto 2 :  {punto2}\" )\n",
        "print(f\"distancia : {distancia}\" )\n"
      ],
      "metadata": {
        "colab": {
          "base_uri": "https://localhost:8080/"
        },
        "id": "FCjb-F26UV2X",
        "outputId": "ec29d07b-b336-4f71-8cb3-36d4f721086c"
      },
      "execution_count": null,
      "outputs": [
        {
          "output_type": "stream",
          "name": "stdout",
          "text": [
            "punto 1 :  (8026, 9692)\n",
            "punto 2 :  (8025, 9693)\n",
            "distancia : 1.4142135623730951\n"
          ]
        }
      ]
    },
    {
      "cell_type": "code",
      "source": [],
      "metadata": {
        "id": "jOOYpqhjlPHO"
      },
      "execution_count": null,
      "outputs": []
    },
    {
      "cell_type": "markdown",
      "source": [
        "**2.3 Extender el algoritmo a 3D.**"
      ],
      "metadata": {
        "id": "q9fO4xrGlLUG"
      }
    },
    {
      "cell_type": "code",
      "source": [
        "def distancia_euclidiana_3d(punto1, punto2):\n",
        "    return math.sqrt((punto1[0] - punto2[0])**2 + (punto1[1] - punto2[1])**2 + (punto1[2] - punto2[2])**2)\n",
        "\n",
        "def encontrar_puntos_cercanos_3d(lista):\n",
        "    # Ordenar la lista por la coordenada x\n",
        "    lista_ordenada = sorted(lista, key=lambda x: x[0])\n",
        "\n",
        "    # Función recursiva para encontrar los puntos más cercanos\n",
        "    def encontrar_puntos_recursivo(lista_ordenada):\n",
        "        n = len(lista_ordenada)\n",
        "        if n <= 1:\n",
        "            return float('inf'), None, None\n",
        "\n",
        "        # Dividir la lista en dos mitades\n",
        "        medio = n // 2\n",
        "        dist_izq, punto1_izq, punto2_izq = encontrar_puntos_recursivo(lista_ordenada[:medio])\n",
        "        dist_der, punto1_der, punto2_der = encontrar_puntos_recursivo(lista_ordenada[medio:])\n",
        "\n",
        "        # Encontrar la distancia mínima entre las dos mitades\n",
        "        dmin, p1, p2 = min((dist_izq, punto1_izq, punto2_izq), (dist_der, punto1_der, punto2_der), key=lambda x: x[0])\n",
        "\n",
        "        # Verificar si hay puntos más cercanos que cruzan el punto medio\n",
        "        puntos_cercanos_medio = [p for p in lista_ordenada if abs(p[0] - lista_ordenada[medio][0]) < dmin]\n",
        "\n",
        "        # Ordenar por la coordenada y para reducir las comparaciones\n",
        "        puntos_cercanos_medio.sort(key=lambda x: x[1])\n",
        "\n",
        "        # Comparar puntos en la banda cercana al punto medio\n",
        "        for i in range(len(puntos_cercanos_medio)):\n",
        "            for j in range(i + 1, min(i + 7, len(puntos_cercanos_medio))):  # Limitar las comparaciones a 7 vecinos más cercanos\n",
        "                d = distancia_euclidiana_3d(puntos_cercanos_medio[i], puntos_cercanos_medio[j])\n",
        "                if d < dmin:\n",
        "                    dmin = d\n",
        "                    p1, p2 = puntos_cercanos_medio[i], puntos_cercanos_medio[j]\n",
        "\n",
        "        return dmin, p1, p2\n",
        "\n",
        "    return encontrar_puntos_recursivo(lista_ordenada)\n",
        "\n",
        "# Ejemplo de uso\n",
        "LISTA_3D = [(random.randrange(1,10000), random.randrange(1,10000), random.randrange(1,10000)) for x in range(1000)]\n",
        "distancia, punto1, punto2 = encontrar_puntos_cercanos_3d(LISTA_3D)\n",
        "\n",
        "print(f\"punto 1 :  {punto1}\" )\n",
        "print(f\"punto 2 :  {punto2}\" )\n",
        "print(f\"distancia : {distancia}\" )\n"
      ],
      "metadata": {
        "colab": {
          "base_uri": "https://localhost:8080/"
        },
        "id": "3hPceSq9lQ_t",
        "outputId": "e4d91828-924b-4d49-ccbd-e49ef81ab4ca"
      },
      "execution_count": null,
      "outputs": [
        {
          "output_type": "stream",
          "name": "stdout",
          "text": [
            "punto 1 :  (6061, 1154, 6204)\n",
            "punto 2 :  (6129, 1210, 6213)\n",
            "distancia : 88.54942122905152\n"
          ]
        }
      ]
    },
    {
      "cell_type": "markdown",
      "source": [
        "**2.4 Buscar documentación sobre el problema**\n",
        "\n",
        "https://iq.opengenus.org/closest-pair-of-points/\n",
        "\n",
        "\n",
        "Shamos, Michael Ian; Hoey, Dan (1975): \"Closest-point problems\".\n",
        "\n"
      ],
      "metadata": {
        "id": "gpK8efbOlhao"
      }
    }
  ]
}