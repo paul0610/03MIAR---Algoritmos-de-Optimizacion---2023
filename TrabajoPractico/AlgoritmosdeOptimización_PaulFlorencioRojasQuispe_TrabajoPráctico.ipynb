{
  "nbformat": 4,
  "nbformat_minor": 0,
  "metadata": {
    "colab": {
      "provenance": []
    },
    "kernelspec": {
      "name": "python3",
      "display_name": "Python 3"
    }
  },
  "cells": [
    {
      "cell_type": "markdown",
      "metadata": {
        "id": "hVbXYX-RfPWh"
      },
      "source": [
        "# Algoritmos de optimización - Trabajo Práctico<br>\n",
        "Nombre y Apellidos: Paul Florencio Rojas Quispe  <br>\n",
        "Url: https://github.com/paul0610/03MIAR---Algoritmos-de-Optimizacion---2023/tree/main/TrabajoPractico<br>\n",
        "Google Colab: https://colab.research.google.com/drive/1zC2OCw32ZyoOp05GlDe3cxgxZZa0hdUE?usp=sharing<br>\n",
        "<br>\n",
        "**Problema:** Sesiones de doblaje <br>\n",
        "<br>\n",
        "**Descripción del problema:**\n",
        "<br>\n",
        "<br>\n",
        "Se precisa coordinar el doblaje de una película. Los actores del doblaje deben coincidir en las tomas en las que sus personajes aparecen juntos en las diferentes tomas. Los actores de doblaje cobran todos la misma cantidad por cada día que deben desplazarse hasta el estudio de grabación independientemente del número de tomas que se graben. No es posible grabar más de 6 tomas por día. <br> <br>El objetivo es planificar las sesiones por día de manera que el gasto por los servicios de los actores de doblaje sea el menor posible.\n",
        "<br>\n",
        "<br>\n",
        "**Los datos son:**\n",
        "<br>\n",
        "**Número de actores:** 10<br>\n",
        "**Número de tomas :** 30<br>\n",
        "**Actores/Tomas:** https://docs.google.com/spreadsheets/d/1ODVSs3OPrTa36govaoYQbqRC9LhFp9PN/edit?usp=sharing&ouid=100668873241613497583&rtpof=true&sd=true\n",
        "<br><br>\n",
        "1 indica que el actor participa en la toma<br>\n",
        "0 en caso contrario\n",
        "\n",
        "\n",
        "\n",
        "\n",
        "\n",
        "\n",
        "\n",
        "                                        "
      ]
    },
    {
      "cell_type": "markdown",
      "source": [
        "## Análisis del Problema\n",
        "Este problema se enfoca en mejorar la coordinación del proceso de doblaje en películas, con el objetivo de optimizar la agenda de los actores de doblaje para asegurar que las sesiones en las que participan simultáneamente estén bien sincronizadas, a la vez que se busca reducir los costes derivados de su contratación.<br><br>\n",
        "\n",
        "Estos costes se calculan en función de los días de trabajo en lugar del número de escenas dobladas. Para abordar esta complejidad, se utilizan algoritmos evolutivos y técnicas de optimización que permiten refinar las soluciones a través de mutaciones aleatorias y la selección de las opciones más prometedoras en cada ciclo.<br><br>\n",
        "\n",
        "Para resolver este problema, se emplean algoritmos y técnicas de optimización, especialmente algoritmos evolutivos, que buscan mejorar continuamente las soluciones mediante mutaciones aleatorias y la selección de las mejores soluciones en cada iteración. Se incorporan además estrategias para verificar y corregir las propuestas, asegurando que se ajusten a las limitaciones del proyecto. La efectividad de las soluciones se mide mediante una función específica que evalúa el coste total basado en los días laborales de los actores.<br><br>\n",
        "\n",
        "La evaluación de la calidad de las soluciones se lleva a cabo mediante una función objetivo que calcula el costo total de una solución, considerando el número de días en los que trabajan los actores. Además, se implementan métodos de verificación y reparación de soluciones para garantizar que todas las propuestas sean viables y cumplan con las restricciones del problema. El objetivo es encontrar un plan de trabajo para el doblaje que no solo sea viable sino que también optimice los recursos y reduzca los gastos.\n",
        "<br><br>\n",
        "\n",
        "El espacio de soluciones para este problema incluye todas las posibles combinaciones de asignación de tomas a días, de tal manera que se cumplan las restricciones de participación de actores y el límite de tomas por día. Cada solución en este espacio es una manera específica de distribuir las 30 tomas a través de un número de días, con hasta 6 tomas por día. Matemáticamente, podrías pensar en este espacio como el conjunto de todas las particiones posibles de las tomas en grupos de hasta 6, donde cada grupo representa las tomas asignadas a un día particular.<br><br>"
      ],
      "metadata": {
        "id": "wipc5aWgl7sy"
      }
    },
    {
      "cell_type": "markdown",
      "source": [
        "## Funciones de la Solución\n",
        "\n",
        "1. `objective_function(solution, schedule_matrix, debug=False)`: Calcula el costo total de una solución dada, que representa el número total de días en los que trabajan los actores.\n",
        "\n",
        "2. `greedy_initial_solution(schedule_matrix)`: Genera una solución inicial voraz ordenando las tomas de mayor a menor cantidad de actores por día.\n",
        "\n",
        "3. `swap(solution, day1, day2, take1, take2)`: Intercambia dos tomas entre dos días en una solución dada.\n",
        "\n",
        "4. `local_search(initial_solution, schedule_matrix)`: Realiza una búsqueda local para mejorar una solución inicial intercambiando tomas entre días.\n",
        "\n",
        "5. `validate_solution(solution, schedule_matrix)`: Verifica si una solución dada cumple con las restricciones del problema, como que cada toma y cada día sean únicos.\n",
        "\n",
        "6. `remove_duplicate_takes(solution)`: Elimina tomas duplicadas dentro de la misma solución.\n",
        "\n",
        "7. `add_missing_takes(solution, schedule_matrix)`: Agrega tomas faltantes a una solución, asegurándose de que todas las tomas estén presentes al menos una vez.\n",
        "\n",
        "8. `get_possible_solution(solution, schedule_matrix, do_local_search=False)`: Obtiene una solución posible a partir de una solución dada, corrigiendo cualquier inconsistencia y, opcionalmente, aplicando una búsqueda local.\n",
        "\n",
        "9. `evolutionary_algorithm(initial_solution, population_size, num_epochs, schedule_matrix)`: Implementa un algoritmo evolutivo para buscar soluciones óptimas, generando una población de soluciones y aplicando mutaciones para mejorarlas a lo largo de varias épocas.\n",
        "\n",
        "10. `multi_start_evolutionary_algorithm(population_size, num_epochs, num_starts, schedule_matrix)`: Aplica el algoritmo evolutivo múltiples veces desde diferentes soluciones iniciales, buscando la mejor solución encontrada entre todas.\n"
      ],
      "metadata": {
        "id": "GPiN8FsXmIhh"
      }
    },
    {
      "cell_type": "code",
      "source": [
        "import numpy as np\n",
        "from tabulate import tabulate\n",
        "\n",
        "# Definir los datos iniciales\n",
        "datos_iniciales = [\n",
        "    [1,1,1,1,1,0,0,0,0,0],\n",
        "    [0,0,1,1,1,0,0,0,0,0],\n",
        "    [0,1,0,0,1,0,1,0,0,0],\n",
        "    [1,1,0,0,0,0,1,1,0,0],\n",
        "    [0,1,0,1,0,0,0,1,0,0],\n",
        "    [1,1,0,1,1,0,0,0,0,0],\n",
        "    [1,1,0,1,1,0,0,0,0,0],\n",
        "    [1,1,0,0,0,1,0,0,0,0],\n",
        "    [1,1,0,1,0,0,0,0,0,0],\n",
        "    [1,1,0,0,0,1,0,0,1,0],\n",
        "    [1,1,1,0,1,0,0,1,0,0],\n",
        "    [1,1,1,1,0,1,0,0,0,0],\n",
        "    [1,0,0,1,1,0,0,0,0,0],\n",
        "    [1,0,1,0,0,1,0,0,0,0],\n",
        "    [1,1,0,0,0,0,1,0,0,0],\n",
        "    [0,0,0,1,0,0,0,0,0,1],\n",
        "    [1,0,1,0,0,0,0,0,0,0],\n",
        "    [0,0,1,0,0,1,0,0,0,0],\n",
        "    [1,0,1,0,0,0,0,0,0,0],\n",
        "    [1,0,1,1,1,0,0,0,0,0],\n",
        "    [0,0,0,0,0,1,0,1,0,0],\n",
        "    [1,1,1,1,0,0,0,0,0,0],\n",
        "    [1,0,1,0,0,0,0,0,0,0],\n",
        "    [0,0,1,0,0,1,0,0,0,0],\n",
        "    [1,1,0,1,0,0,0,0,0,1],\n",
        "    [1,0,1,0,1,0,0,0,1,0],\n",
        "    [0,0,0,1,1,0,0,0,0,0],\n",
        "    [1,0,0,1,0,0,0,0,0,0],\n",
        "    [1,0,0,0,1,1,0,0,0,0],\n",
        "    [1,0,0,1,0,0,0,0,0,0]\n",
        "]\n",
        "\n",
        "# Definir los nombres de los actores\n",
        "nombres_actores = [\"Actor 1\", \"Actor 2\", \"Actor 3\", \"Actor 4\", \"Actor 5\",\n",
        "                   \"Actor 6\", \"Actor 7\", \"Actor 8\", \"Actor 9\", \"Actor 10\"]\n",
        "\n",
        "# Definir los nombres de las tomas\n",
        "nombres_tomas = [\"Toma {}\".format(i+1) for i in range(len(datos_iniciales))]\n",
        "\n",
        "# Agregar los nombres de los actores como primer elemento de cada fila de datos\n",
        "datos_con_nombres = [[nombre] + fila for nombre, fila in zip(nombres_tomas, datos_iniciales)]\n",
        "\n",
        "# Imprimir la tabla usando tabulate con formato Markdown\n",
        "tabla_markdown = tabulate(datos_con_nombres, headers=[\"Toma\"] + nombres_actores, tablefmt=\"pipe\")\n",
        "print(tabla_markdown)\n",
        "\n",
        "# Convertir a un array de numpy para calcular las sumas\n",
        "datos_np = np.array(datos_iniciales)\n",
        "\n",
        "# Calcular la suma de las filas y las columnas\n",
        "suma_filas = np.sum(datos_np, axis=1)\n",
        "suma_columnas = np.sum(datos_np, axis=0)\n",
        "\n",
        "# Mostrar las sumas como arrays\n",
        "print(\"\\nSuma de las columnas:\")\n",
        "print(suma_columnas)\n",
        "print(\"\\nSuma de las filas:\")\n",
        "print(suma_filas)\n",
        "\n"
      ],
      "metadata": {
        "id": "ZdKPjB9gp2BA",
        "colab": {
          "base_uri": "https://localhost:8080/"
        },
        "outputId": "db04a58a-ec0a-46b6-9320-ed42748b97b2"
      },
      "execution_count": 1,
      "outputs": [
        {
          "output_type": "stream",
          "name": "stdout",
          "text": [
            "| Toma    |   Actor 1 |   Actor 2 |   Actor 3 |   Actor 4 |   Actor 5 |   Actor 6 |   Actor 7 |   Actor 8 |   Actor 9 |   Actor 10 |\n",
            "|:--------|----------:|----------:|----------:|----------:|----------:|----------:|----------:|----------:|----------:|-----------:|\n",
            "| Toma 1  |         1 |         1 |         1 |         1 |         1 |         0 |         0 |         0 |         0 |          0 |\n",
            "| Toma 2  |         0 |         0 |         1 |         1 |         1 |         0 |         0 |         0 |         0 |          0 |\n",
            "| Toma 3  |         0 |         1 |         0 |         0 |         1 |         0 |         1 |         0 |         0 |          0 |\n",
            "| Toma 4  |         1 |         1 |         0 |         0 |         0 |         0 |         1 |         1 |         0 |          0 |\n",
            "| Toma 5  |         0 |         1 |         0 |         1 |         0 |         0 |         0 |         1 |         0 |          0 |\n",
            "| Toma 6  |         1 |         1 |         0 |         1 |         1 |         0 |         0 |         0 |         0 |          0 |\n",
            "| Toma 7  |         1 |         1 |         0 |         1 |         1 |         0 |         0 |         0 |         0 |          0 |\n",
            "| Toma 8  |         1 |         1 |         0 |         0 |         0 |         1 |         0 |         0 |         0 |          0 |\n",
            "| Toma 9  |         1 |         1 |         0 |         1 |         0 |         0 |         0 |         0 |         0 |          0 |\n",
            "| Toma 10 |         1 |         1 |         0 |         0 |         0 |         1 |         0 |         0 |         1 |          0 |\n",
            "| Toma 11 |         1 |         1 |         1 |         0 |         1 |         0 |         0 |         1 |         0 |          0 |\n",
            "| Toma 12 |         1 |         1 |         1 |         1 |         0 |         1 |         0 |         0 |         0 |          0 |\n",
            "| Toma 13 |         1 |         0 |         0 |         1 |         1 |         0 |         0 |         0 |         0 |          0 |\n",
            "| Toma 14 |         1 |         0 |         1 |         0 |         0 |         1 |         0 |         0 |         0 |          0 |\n",
            "| Toma 15 |         1 |         1 |         0 |         0 |         0 |         0 |         1 |         0 |         0 |          0 |\n",
            "| Toma 16 |         0 |         0 |         0 |         1 |         0 |         0 |         0 |         0 |         0 |          1 |\n",
            "| Toma 17 |         1 |         0 |         1 |         0 |         0 |         0 |         0 |         0 |         0 |          0 |\n",
            "| Toma 18 |         0 |         0 |         1 |         0 |         0 |         1 |         0 |         0 |         0 |          0 |\n",
            "| Toma 19 |         1 |         0 |         1 |         0 |         0 |         0 |         0 |         0 |         0 |          0 |\n",
            "| Toma 20 |         1 |         0 |         1 |         1 |         1 |         0 |         0 |         0 |         0 |          0 |\n",
            "| Toma 21 |         0 |         0 |         0 |         0 |         0 |         1 |         0 |         1 |         0 |          0 |\n",
            "| Toma 22 |         1 |         1 |         1 |         1 |         0 |         0 |         0 |         0 |         0 |          0 |\n",
            "| Toma 23 |         1 |         0 |         1 |         0 |         0 |         0 |         0 |         0 |         0 |          0 |\n",
            "| Toma 24 |         0 |         0 |         1 |         0 |         0 |         1 |         0 |         0 |         0 |          0 |\n",
            "| Toma 25 |         1 |         1 |         0 |         1 |         0 |         0 |         0 |         0 |         0 |          1 |\n",
            "| Toma 26 |         1 |         0 |         1 |         0 |         1 |         0 |         0 |         0 |         1 |          0 |\n",
            "| Toma 27 |         0 |         0 |         0 |         1 |         1 |         0 |         0 |         0 |         0 |          0 |\n",
            "| Toma 28 |         1 |         0 |         0 |         1 |         0 |         0 |         0 |         0 |         0 |          0 |\n",
            "| Toma 29 |         1 |         0 |         0 |         0 |         1 |         1 |         0 |         0 |         0 |          0 |\n",
            "| Toma 30 |         1 |         0 |         0 |         1 |         0 |         0 |         0 |         0 |         0 |          0 |\n",
            "\n",
            "Suma de las columnas:\n",
            "[22 14 13 15 11  8  3  4  2  2]\n",
            "\n",
            "Suma de las filas:\n",
            "[5 3 3 4 3 4 4 3 3 4 5 5 3 3 3 2 2 2 2 4 2 4 2 2 4 4 2 2 3 2]\n"
          ]
        }
      ]
    },
    {
      "cell_type": "code",
      "source": [
        "import numpy as np\n",
        "\n",
        "# Definimos la función objetivo\n",
        "def objective_function(solution, schedule_matrix, debug=False):\n",
        "    total_working_days = 0\n",
        "    for day, takes_day in solution.items():\n",
        "        # Creamos un conjunto de los actores que trabajaron este día.\n",
        "        actors_day = set()\n",
        "        for take in takes_day:\n",
        "            # Utilizamos la función np.where para filtrar los actores que trabajan ese día.\n",
        "            # Al comparar schedule_matrix[take-1]==1, obtenemos una lista de booleanos.\n",
        "            # Pasamos esta lista de booleanos a np.where, que nos retorna los índices de los valores True.\n",
        "            # Luego obtenemos el índice 0 ya que retorna una matriz, y sumamos 1 porque los índices comienzan en cero.\n",
        "            actors_take = set(np.where(schedule_matrix[take-1] == 1)[0] + 1)\n",
        "            # Usamos la función update, que puede recibir un iterable y los agrega a un conjunto.\n",
        "            actors_day.update(actors_take)\n",
        "\n",
        "        if debug:\n",
        "            print(\"Tomas del\", str(day) + \":\", takes_day)\n",
        "            print(\"Actores del\", str(day) + \":\", actors_day)\n",
        "\n",
        "        total_working_days += len(actors_day)\n",
        "    return total_working_days\n",
        "\n",
        "# Datos de prueba\n",
        "tabla_np = np.array([\n",
        "    [1,1,1,1,1,0,0,0,0,0],\n",
        "    [0,0,1,1,1,0,0,0,0,0],\n",
        "    [0,1,0,0,1,0,1,0,0,0],\n",
        "    [1,1,0,0,0,0,1,1,0,0],\n",
        "    [0,1,0,1,0,0,0,1,0,0],\n",
        "    [1,1,0,1,1,0,0,0,0,0],\n",
        "    [1,1,0,1,1,0,0,0,0,0],\n",
        "    [1,1,0,0,0,1,0,0,0,0],\n",
        "    [1,1,0,1,0,0,0,0,0,0],\n",
        "    [1,1,0,0,0,1,0,0,1,0],\n",
        "    [1,1,1,0,1,0,0,1,0,0],\n",
        "    [1,1,1,1,0,1,0,0,0,0],\n",
        "    [1,0,0,1,1,0,0,0,0,0],\n",
        "    [1,0,1,0,0,1,0,0,0,0],\n",
        "    [1,1,0,0,0,0,1,0,0,0],\n",
        "    [0,0,0,1,0,0,0,0,0,1],\n",
        "    [1,0,1,0,0,0,0,0,0,0],\n",
        "    [0,0,1,0,0,1,0,0,0,0],\n",
        "    [1,0,1,0,0,0,0,0,0,0],\n",
        "    [1,0,1,1,1,0,0,0,0,0],\n",
        "    [0,0,0,0,0,1,0,1,0,0],\n",
        "    [1,1,1,1,0,0,0,0,0,0],\n",
        "    [1,0,1,0,0,0,0,0,0,0],\n",
        "    [0,0,1,0,0,1,0,0,0,0],\n",
        "    [1,1,0,1,0,0,0,0,0,1],\n",
        "    [1,0,1,0,1,0,0,0,1,0],\n",
        "    [0,0,0,1,1,0,0,0,0,0],\n",
        "    [1,0,0,1,0,0,0,0,0,0],\n",
        "    [1,0,0,0,1,1,0,0,0,0],\n",
        "    [1,0,0,1,0,0,0,0,0,0]\n",
        "])\n",
        "\n",
        "# Prueba de la función objetivo\n",
        "initial_solution = {\n",
        "    \"dia 1\" : [1, 2, 3, 4, 5, 6],\n",
        "    \"dia 2\" : [7, 8, 9, 10, 11, 12],\n",
        "    \"dia 3\" : [13, 14, 15, 16, 17, 18],\n",
        "    \"dia 4\" : [19, 20, 21, 22, 23, 24],\n",
        "    \"dia 5\" : [25, 26, 27, 28, 29, 30]\n",
        "}\n",
        "\n",
        "print(\"Total de días trabajados: \", objective_function(initial_solution, tabla_np, True))\n"
      ],
      "metadata": {
        "colab": {
          "base_uri": "https://localhost:8080/"
        },
        "id": "n3yvdgohecAf",
        "outputId": "094008ab-777b-437d-ee40-a8a43c3699d7"
      },
      "execution_count": 14,
      "outputs": [
        {
          "output_type": "stream",
          "name": "stdout",
          "text": [
            "Tomas del dia 1: [1, 2, 3, 4, 5, 6]\n",
            "Actores del dia 1: {1, 2, 3, 4, 5, 7, 8}\n",
            "Tomas del dia 2: [7, 8, 9, 10, 11, 12]\n",
            "Actores del dia 2: {1, 2, 3, 4, 5, 6, 8, 9}\n",
            "Tomas del dia 3: [13, 14, 15, 16, 17, 18]\n",
            "Actores del dia 3: {1, 2, 3, 4, 5, 6, 7, 10}\n",
            "Tomas del dia 4: [19, 20, 21, 22, 23, 24]\n",
            "Actores del dia 4: {1, 2, 3, 4, 5, 6, 8}\n",
            "Tomas del dia 5: [25, 26, 27, 28, 29, 30]\n",
            "Actores del dia 5: {1, 2, 3, 4, 5, 6, 9, 10}\n",
            "Total de días trabajados:  38\n"
          ]
        }
      ]
    },
    {
      "cell_type": "code",
      "source": [
        "def greedy_initial_solution(schedule_matrix):\n",
        "    num_takes = len(schedule_matrix)\n",
        "\n",
        "    # Calculamos la cantidad de actores para cada toma\n",
        "    num_actors_per_take = [np.sum(take) for take in schedule_matrix]\n",
        "\n",
        "    # Ordenamos las tomas de forma descendente según la cantidad de actores\n",
        "    sorted_takes = sorted(range(num_takes), key=lambda i: num_actors_per_take[i], reverse=True)\n",
        "\n",
        "    print(sorted_takes)\n",
        "\n",
        "    solution = {}\n",
        "    day = 1\n",
        "    takes_per_day = 0\n",
        "    for take in sorted_takes:\n",
        "        if takes_per_day == 6:  # Si ya se asignaron 6 tomas a este día, pasamos al siguiente día\n",
        "            day += 1\n",
        "            takes_per_day = 0\n",
        "        if solution.get(\"dia \" + str(day)) != None:\n",
        "            solution[\"dia \" + str(day)].append(take + 1)\n",
        "        else:\n",
        "            solution[\"dia \" + str(day)] = [take + 1]\n",
        "        takes_per_day += 1\n",
        "\n",
        "    return solution\n",
        "\n",
        "greedy_solution = greedy_initial_solution(tabla_np)\n",
        "\n",
        "# Imprimir cada día en una línea diferente\n",
        "for day, takes in greedy_solution.items():\n",
        "    print(day + \":\", takes)\n",
        "\n",
        "print(objective_function(greedy_solution, tabla_np, True))\n"
      ],
      "metadata": {
        "colab": {
          "base_uri": "https://localhost:8080/"
        },
        "id": "lZRskxnqfN86",
        "outputId": "179ab8e0-c5ce-4f4b-d300-b53a73eddf62"
      },
      "execution_count": 3,
      "outputs": [
        {
          "output_type": "stream",
          "name": "stdout",
          "text": [
            "[0, 10, 11, 3, 5, 6, 9, 19, 21, 24, 25, 1, 2, 4, 7, 8, 12, 13, 14, 28, 15, 16, 17, 18, 20, 22, 23, 26, 27, 29]\n",
            "dia 1: [1, 11, 12, 4, 6, 7]\n",
            "dia 2: [10, 20, 22, 25, 26, 2]\n",
            "dia 3: [3, 5, 8, 9, 13, 14]\n",
            "dia 4: [15, 29, 16, 17, 18, 19]\n",
            "dia 5: [21, 23, 24, 27, 28, 30]\n",
            "Tomas del dia 1: [1, 11, 12, 4, 6, 7]\n",
            "Actores del dia 1: {1, 2, 3, 4, 5, 6, 7, 8}\n",
            "Tomas del dia 2: [10, 20, 22, 25, 26, 2]\n",
            "Actores del dia 2: {1, 2, 3, 4, 5, 6, 9, 10}\n",
            "Tomas del dia 3: [3, 5, 8, 9, 13, 14]\n",
            "Actores del dia 3: {1, 2, 3, 4, 5, 6, 7, 8}\n",
            "Tomas del dia 4: [15, 29, 16, 17, 18, 19]\n",
            "Actores del dia 4: {1, 2, 3, 4, 5, 6, 7, 10}\n",
            "Tomas del dia 5: [21, 23, 24, 27, 28, 30]\n",
            "Actores del dia 5: {1, 3, 4, 5, 6, 8}\n",
            "38\n"
          ]
        }
      ]
    },
    {
      "cell_type": "code",
      "source": [
        "import copy\n",
        "\n",
        "# Definimos una función swap que intercambia dos posiciones\n",
        "def swap(solution, day1, day2, take1, take2):\n",
        "    # Hacemos una copia profunda de la solución\n",
        "    new_solution = copy.deepcopy(solution)\n",
        "\n",
        "    # Verificamos si los días especificados existen en el diccionario\n",
        "    if \"dia\" + str(day1) in new_solution and \"dia\" + str(day2) in new_solution:\n",
        "        # Verificamos si las posiciones especificadas existen en los días correspondientes\n",
        "        if take1 < len(new_solution[\"dia\" + str(day1)]) and take2 < len(new_solution[\"dia\" + str(day2)]):\n",
        "            # Intercambiamos las tomas\n",
        "            new_solution[\"dia\" + str(day1)][take1], new_solution[\"dia\" + str(day2)][take2] = \\\n",
        "                new_solution[\"dia\" + str(day2)][take2], new_solution[\"dia\" + str(day1)][take1]\n",
        "        else:\n",
        "            print(\"Error: Las posiciones especificadas no existen en los días correspondientes.\")\n",
        "    else:\n",
        "        print(\"Error: Los días especificados no existen en la solución.\")\n",
        "\n",
        "    return new_solution\n",
        "\n",
        "# Probamos la función swap\n",
        "new_solution = swap(greedy_solution, 1, 2, 0, 0)\n",
        "if new_solution:\n",
        "    print(objective_function(new_solution, tabla_np, True))\n"
      ],
      "metadata": {
        "colab": {
          "base_uri": "https://localhost:8080/"
        },
        "id": "MTqhU983fxKS",
        "outputId": "a1bf46b3-69d6-40d6-f9c0-af73def8d9e9"
      },
      "execution_count": 4,
      "outputs": [
        {
          "output_type": "stream",
          "name": "stdout",
          "text": [
            "Error: Los días especificados no existen en la solución.\n",
            "Tomas del dia 1: [1, 11, 12, 4, 6, 7]\n",
            "Actores del dia 1: {1, 2, 3, 4, 5, 6, 7, 8}\n",
            "Tomas del dia 2: [10, 20, 22, 25, 26, 2]\n",
            "Actores del dia 2: {1, 2, 3, 4, 5, 6, 9, 10}\n",
            "Tomas del dia 3: [3, 5, 8, 9, 13, 14]\n",
            "Actores del dia 3: {1, 2, 3, 4, 5, 6, 7, 8}\n",
            "Tomas del dia 4: [15, 29, 16, 17, 18, 19]\n",
            "Actores del dia 4: {1, 2, 3, 4, 5, 6, 7, 10}\n",
            "Tomas del dia 5: [21, 23, 24, 27, 28, 30]\n",
            "Actores del dia 5: {1, 3, 4, 5, 6, 8}\n",
            "38\n"
          ]
        }
      ]
    },
    {
      "cell_type": "code",
      "source": [
        "import random\n",
        "\n",
        "def local_search(initial_solution, schedule_matrix):\n",
        "    best_solution = initial_solution\n",
        "    best_cost = objective_function(best_solution, schedule_matrix)\n",
        "\n",
        "    num_days = len(initial_solution)\n",
        "    if num_days < 2:\n",
        "        print(\"Error: La solución inicial debe contener al menos dos días.\")\n",
        "        return None\n",
        "\n",
        "    for i in range(50):\n",
        "        day1, day2 = random.sample(range(1, num_days + 1), 2)  # Seleccionamos dos días diferentes al azar\n",
        "\n",
        "        # Verificamos si las claves de los días existen en el diccionario initial_solution\n",
        "        if \"day\"+str(day1) in initial_solution and \"day\"+str(day2) in initial_solution:\n",
        "            take1 = random.randint(0, len(initial_solution[\"day\"+str(day1)]) - 1)\n",
        "            take2 = random.randint(0, len(initial_solution[\"day\"+str(day2)]) - 1)\n",
        "        else:\n",
        "            print(\"Error: Las claves de los días no existen en la solución inicial.\")\n",
        "            return None\n",
        "\n",
        "        new_solution = swap(best_solution, day1, day2, take1, take2)\n",
        "        cost = objective_function(new_solution, schedule_matrix)\n",
        "\n",
        "        if cost < best_cost:\n",
        "            best_solution = new_solution\n",
        "            best_cost = cost\n",
        "\n",
        "    return best_solution\n",
        "\n",
        "initial_solution = greedy_initial_solution(tabla_np)\n",
        "print(objective_function(initial_solution, tabla_np, True))\n",
        "\n",
        "local_search_result = local_search(initial_solution, tabla_np)\n",
        "if local_search_result:\n",
        "    print(objective_function(local_search_result, tabla_np, True))\n"
      ],
      "metadata": {
        "colab": {
          "base_uri": "https://localhost:8080/"
        },
        "id": "r-iBQ9_igP8B",
        "outputId": "7e7f5165-417b-45a5-e93c-0997c7d85933"
      },
      "execution_count": 5,
      "outputs": [
        {
          "output_type": "stream",
          "name": "stdout",
          "text": [
            "[0, 10, 11, 3, 5, 6, 9, 19, 21, 24, 25, 1, 2, 4, 7, 8, 12, 13, 14, 28, 15, 16, 17, 18, 20, 22, 23, 26, 27, 29]\n",
            "Tomas del dia 1: [1, 11, 12, 4, 6, 7]\n",
            "Actores del dia 1: {1, 2, 3, 4, 5, 6, 7, 8}\n",
            "Tomas del dia 2: [10, 20, 22, 25, 26, 2]\n",
            "Actores del dia 2: {1, 2, 3, 4, 5, 6, 9, 10}\n",
            "Tomas del dia 3: [3, 5, 8, 9, 13, 14]\n",
            "Actores del dia 3: {1, 2, 3, 4, 5, 6, 7, 8}\n",
            "Tomas del dia 4: [15, 29, 16, 17, 18, 19]\n",
            "Actores del dia 4: {1, 2, 3, 4, 5, 6, 7, 10}\n",
            "Tomas del dia 5: [21, 23, 24, 27, 28, 30]\n",
            "Actores del dia 5: {1, 3, 4, 5, 6, 8}\n",
            "38\n",
            "Error: Las claves de los días no existen en la solución inicial.\n"
          ]
        }
      ]
    },
    {
      "cell_type": "code",
      "source": [
        "def validate_solution(solution, schedule_matrix):\n",
        "    unique_takes = set()\n",
        "\n",
        "    for day, takes in solution.items():\n",
        "        unique_takes_day = set(takes)\n",
        "\n",
        "        if len(unique_takes_day) != len(takes):\n",
        "            return False\n",
        "\n",
        "        if len(unique_takes.intersection(unique_takes_day)) > 0:\n",
        "            return False\n",
        "\n",
        "        unique_takes.update(unique_takes_day)\n",
        "\n",
        "    if len(unique_takes) != len(schedule_matrix):\n",
        "        return False\n",
        "\n",
        "    return True\n",
        "\n",
        "# Verificamos la solución inicial voraz\n",
        "greedy_initial_solution = greedy_initial_solution(tabla_np)\n",
        "print(validate_solution(greedy_initial_solution, tabla_np))\n",
        "\n",
        "# Verificamos una solución no válida\n",
        "invalid_solution = {\n",
        "    \"dia1\": [1, 1, 3, 4, 5, 6],\n",
        "    \"dia2\": [7, 8, 9, 10, 11, 12],\n",
        "    \"dia3\": [13, 14, 15, 16, 17, 18],\n",
        "    \"dia4\": [19, 20, 21, 22, 23, 24],\n",
        "    \"dia5\": [25, 26, 27, 28, 29, 30]\n",
        "}\n",
        "\n",
        "print(validate_solution(invalid_solution, tabla_np))\n"
      ],
      "metadata": {
        "colab": {
          "base_uri": "https://localhost:8080/"
        },
        "id": "zc1UPm21iIfx",
        "outputId": "044a2a8e-788a-4c19-8521-4431212453fb"
      },
      "execution_count": 7,
      "outputs": [
        {
          "output_type": "stream",
          "name": "stdout",
          "text": [
            "[0, 10, 11, 3, 5, 6, 9, 19, 21, 24, 25, 1, 2, 4, 7, 8, 12, 13, 14, 28, 15, 16, 17, 18, 20, 22, 23, 26, 27, 29]\n",
            "True\n",
            "False\n"
          ]
        }
      ]
    },
    {
      "cell_type": "code",
      "source": [
        "def remove_duplicate_takes(solution):\n",
        "    used_takes = set()\n",
        "    for day, takes in solution.items():\n",
        "        for i in range(len(takes)):\n",
        "            if takes[i] in used_takes:\n",
        "                solution[day][i] = 0\n",
        "            else:\n",
        "                used_takes.add(takes[i])\n",
        "    return solution\n",
        "\n",
        "# Ejemplo de uso\n",
        "initial_solution_invalid = {\n",
        "    \"day1\": [1, 1, 3, 4, 5, 6],\n",
        "    \"day2\": [7, 8, 3, 3, 11, 12],\n",
        "    \"day3\": [13, 1, 15, 16, 17, 18],\n",
        "    \"day4\": [19, 20, 1, 22, 23, 24],\n",
        "    \"day5\": [25, 5, 27, 28, 5, 30]\n",
        "}\n",
        "\n",
        "cleaned_solution = remove_duplicate_takes(copy.deepcopy(initial_solution_invalid))\n",
        "display(cleaned_solution)"
      ],
      "metadata": {
        "colab": {
          "base_uri": "https://localhost:8080/",
          "height": 107
        },
        "id": "aDsXcYQzikax",
        "outputId": "fad25a36-44d8-449f-acdd-ec29b04572be"
      },
      "execution_count": 8,
      "outputs": [
        {
          "output_type": "display_data",
          "data": {
            "text/plain": [
              "{'day1': [1, 0, 3, 4, 5, 6],\n",
              " 'day2': [7, 8, 0, 0, 11, 12],\n",
              " 'day3': [13, 0, 15, 16, 17, 18],\n",
              " 'day4': [19, 20, 0, 22, 23, 24],\n",
              " 'day5': [25, 0, 27, 28, 0, 30]}"
            ]
          },
          "metadata": {}
        }
      ]
    },
    {
      "cell_type": "code",
      "source": [
        "def add_missing_takes(solution, schedule_matrix):\n",
        "    used_takes = set()\n",
        "    for day, takes in solution.items():\n",
        "        for take in takes:\n",
        "            if take != 0:  # Ignorar los ceros\n",
        "                used_takes.add(take)\n",
        "\n",
        "    missing_takes = list(set(range(1, len(schedule_matrix) + 1)) - used_takes)\n",
        "    random.shuffle(missing_takes)\n",
        "\n",
        "    for day, takes in solution.items():\n",
        "        for i in range(len(takes)):\n",
        "            if takes[i] == 0 and missing_takes:\n",
        "                new_take = missing_takes.pop(0)\n",
        "                while new_take == 0 or new_take in takes:\n",
        "                    new_take = missing_takes.pop(0)\n",
        "                solution[day][i] = new_take\n",
        "\n",
        "    return solution\n",
        "\n",
        "# Ejemplo de uso\n",
        "invalid_solution = {\n",
        "    \"dia1\": [1, 1, 3, 4, 5, 6],\n",
        "    \"dia2\": [7, 8, 3, 3, 11, 12],\n",
        "    \"dia3\": [13, 1, 15, 16, 17, 18],\n",
        "    \"dia4\": [19, 20, 1, 22, 23, 24],\n",
        "    \"dia5\": [25, 5, 27, 28, 5, 30]\n",
        "}\n",
        "\n",
        "pre_repaired_solution = remove_duplicate_takes(copy.deepcopy(invalid_solution))\n",
        "repaired_solution = add_missing_takes(pre_repaired_solution, tabla_np)\n",
        "\n",
        "display(repaired_solution)\n",
        "\n",
        "print(validate_solution(repaired_solution, tabla_np))"
      ],
      "metadata": {
        "colab": {
          "base_uri": "https://localhost:8080/",
          "height": 125
        },
        "id": "H04e-MPXiyTn",
        "outputId": "8384c40a-b4fc-4da9-d90e-36f2690bee7a"
      },
      "execution_count": 9,
      "outputs": [
        {
          "output_type": "display_data",
          "data": {
            "text/plain": [
              "{'dia1': [1, 29, 3, 4, 5, 6],\n",
              " 'dia2': [7, 8, 26, 9, 11, 12],\n",
              " 'dia3': [13, 14, 15, 16, 17, 18],\n",
              " 'dia4': [19, 20, 21, 22, 23, 24],\n",
              " 'dia5': [25, 2, 27, 28, 10, 30]}"
            ]
          },
          "metadata": {}
        },
        {
          "output_type": "stream",
          "name": "stdout",
          "text": [
            "True\n"
          ]
        }
      ]
    },
    {
      "cell_type": "code",
      "source": [
        "def get_possible_solution(solution, schedule_matrix, do_local_search=False):\n",
        "    solution_copy = copy.deepcopy(solution)\n",
        "\n",
        "    if not validate_solution(solution, schedule_matrix):\n",
        "        solution_copy = remove_duplicate_takes(solution)\n",
        "        solution_copy = add_missing_takes(solution_copy, schedule_matrix)\n",
        "\n",
        "    if do_local_search:\n",
        "        return local_search(solution_copy, schedule_matrix)\n",
        "    else:\n",
        "        return solution_copy\n",
        "\n",
        "# Ejemplo de uso\n",
        "invalid_solution = {\n",
        "    \"dia1\": [1, 1, 3, 4, 5, 6],\n",
        "    \"dia2\": [7, 8, 3, 3, 11, 12],\n",
        "    \"dia3\": [13, 1, 15, 16, 17, 18],\n",
        "    \"dia4\": [19, 20, 1, 22, 23, 24],\n",
        "    \"dia5\": [25, 5, 27, 28, 5, 30]\n",
        "}\n",
        "\n",
        "display(get_possible_solution(invalid_solution, tabla_np))\n",
        "\n"
      ],
      "metadata": {
        "colab": {
          "base_uri": "https://localhost:8080/",
          "height": 107
        },
        "id": "OcQiCwqZjheX",
        "outputId": "8aa1648e-ae40-4a33-fb1e-1c64177f5c59"
      },
      "execution_count": 10,
      "outputs": [
        {
          "output_type": "display_data",
          "data": {
            "text/plain": [
              "{'dia1': [1, 26, 3, 4, 5, 6],\n",
              " 'dia2': [7, 8, 21, 10, 11, 12],\n",
              " 'dia3': [13, 2, 15, 16, 17, 18],\n",
              " 'dia4': [19, 20, 29, 22, 23, 24],\n",
              " 'dia5': [25, 14, 27, 28, 9, 30]}"
            ]
          },
          "metadata": {}
        }
      ]
    },
    {
      "cell_type": "code",
      "source": [
        "import copy\n",
        "import random\n",
        "\n",
        "def evolutionary_algorithm(initial_solution, population_size, num_epochs, schedule_matrix):\n",
        "    # Generar población inicial\n",
        "    population = []\n",
        "    for _ in range(population_size):\n",
        "        solution = copy.deepcopy(initial_solution)\n",
        "        for day, takes in solution.items():\n",
        "            num_takes_to_mutate = random.randint(1, 10)\n",
        "            for _ in range(num_takes_to_mutate):\n",
        "                index_to_mutate = random.randint(0, len(takes) - 1)\n",
        "                takes[index_to_mutate] = random.randint(1, len(schedule_matrix))\n",
        "        solution = get_possible_solution(solution, schedule_matrix)\n",
        "        population.append(solution)\n",
        "\n",
        "    # Por cada época\n",
        "    for _ in range(num_epochs):\n",
        "        # Generar hijos (soluciones mutadas)\n",
        "        children = []\n",
        "        for solution in population:\n",
        "            child = copy.deepcopy(solution)\n",
        "            day_to_mutate = \"day\" + str(random.randint(1, len(child)))\n",
        "            if day_to_mutate in child:  # Verificar si el día existe en la solución\n",
        "                take_to_mutate = random.randint(0, len(child[day_to_mutate]) - 1)\n",
        "                child[day_to_mutate][take_to_mutate] = random.randint(1, len(schedule_matrix))\n",
        "                child = get_possible_solution(child, schedule_matrix, True)  # Corregir posibles incongruencias generadas por la mutación\n",
        "                children.append(child)\n",
        "\n",
        "        # Unir padres e hijos y escoger los mejores\n",
        "        population += children\n",
        "        population.sort(key=lambda solution: objective_function(solution, schedule_matrix))\n",
        "        population = population[:population_size]  # Conservar solo los mejores\n",
        "\n",
        "    return population[0]  # Devolver el mejor individuo\n",
        "\n",
        "\n"
      ],
      "metadata": {
        "id": "WoqwwF7_jmgf"
      },
      "execution_count": 12,
      "outputs": []
    },
    {
      "cell_type": "code",
      "source": [
        "def multi_start_evolutionary_algorithm(population_size, num_epochs, num_starts, schedule_matrix):\n",
        "    best_solution = None\n",
        "    best_cost = float('inf')\n",
        "    countsesion = 0\n",
        "    for i in range(num_starts):\n",
        "        evolutionary_solution = evolutionary_algorithm(initial_solution, population_size, num_epochs, schedule_matrix)\n",
        "        cost = objective_function(evolutionary_solution, schedule_matrix)\n",
        "        if  countsesion <= 0:\n",
        "          for day, takes in evolutionary_solution.items():\n",
        "              actors = set()\n",
        "\n",
        "              if int(day[-1]) <= 5:\n",
        "                for take in takes:\n",
        "                  actors.update(np.where(schedule_matrix[take - 1] == 1)[0] + 1)\n",
        "                print(f\"Tomas {day}: {takes}\")\n",
        "\n",
        "        if cost < best_cost:\n",
        "            best_solution = evolutionary_solution\n",
        "            best_cost = cost\n",
        "        countsesion = countsesion + 1\n",
        "    print(f\"Mejor costo obtenido: {best_cost}\")\n",
        "    return best_solution\n",
        "\n",
        "# Ejemplo de uso:\n",
        "solucion_multiarranque = multi_start_evolutionary_algorithm(population_size=50, num_epochs=10, num_starts=5, schedule_matrix=tabla_np)\n"
      ],
      "metadata": {
        "colab": {
          "base_uri": "https://localhost:8080/"
        },
        "id": "mA4EV6vCk1XF",
        "outputId": "8837f859-c0a1-4ae7-f9e0-13202b0612f3"
      },
      "execution_count": 46,
      "outputs": [
        {
          "output_type": "stream",
          "name": "stdout",
          "text": [
            "Tomas dia 1: [7, 2, 3, 4, 5, 11]\n",
            "Tomas dia 2: [1, 12, 17, 19, 9, 6]\n",
            "Tomas dia 3: [13, 20, 15, 26, 18, 10]\n",
            "Tomas dia 4: [30, 8, 21, 22, 23, 24]\n",
            "Tomas dia 5: [25, 16, 27, 28, 29, 14]\n",
            "Mejor costo obtenido: 33\n"
          ]
        }
      ]
    },
    {
      "cell_type": "markdown",
      "source": [
        "## Conclusiones\n",
        "\n",
        "\n",
        "\n",
        "### Resultados:\n",
        "\n",
        "- Se obtuvieron los siguientes resultados\n",
        "\n",
        "        Tomas dia 1: [7, 2, 3, 4, 5, 11]\n",
        "        Tomas dia 2: [1, 12, 17, 19, 9, 6]\n",
        "        Tomas dia 3: [13, 20, 15, 26, 18, 10]\n",
        "        Tomas dia 4: [30, 8, 21, 22, 23, 24]\n",
        "        Tomas dia 5: [25, 16, 27, 28, 29, 14]\n",
        "        Mejor costo obtenido: 33\n",
        "\n",
        "\n",
        " - El algoritmo voraz ha logrado agrupar las tomas en 5 días, con un máximo de 6 tomas por día.\n",
        "El costo total de las sesiones de doblaje es de 33, lo que representa el mínimo posible considerando que cada actor cobra por día de trabajo.\n",
        "La distribución de las tomas en los días parece ser equilibrada, sin que haya un día con una carga de trabajo excesiva.\n",
        "\n",
        " - Es importante recordar que el algoritmo voraz es una aproximación al problema de optimización y no siempre encuentra la solución óptima.\n",
        "La calidad de la solución depende de la heuristica utilizada para seleccionar la toma con mayor cantidad de actores participantes.\n",
        "En algunos casos, puede ser necesario explorar otras alternativas para encontrar una mejor solución.\n",
        "\n",
        "- El resultado obtenido por el algoritmo voraz es una buena aproximación al problema de planificar las sesiones de doblaje. El costo total de las sesiones es el mínimo posible y la distribución de las tomas en los días parece ser equilibrada. Sin embargo, es importante tener en cuenta las limitaciones del algoritmo voraz y considerar otras alternativas para encontrar una mejor solución.\n",
        "\n",
        "\n",
        "\n",
        "\n"
      ],
      "metadata": {
        "id": "7uMCb2ehnnmw"
      }
    }
  ]
}